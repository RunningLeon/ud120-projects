{
 "cells": [
  {
   "cell_type": "code",
   "execution_count": 1,
   "metadata": {
    "collapsed": true
   },
   "outputs": [],
   "source": [
    "import time\n",
    "from collections import Counter\n",
    "import xgboost as xgb\n",
    "import pandas as pd\n",
    "import numpy as np\n",
    "from matplotlib import pyplot as plt\n",
    "from xgboost.sklearn import XGBClassifier\n",
    "from sklearn.model_selection import cross_validate, GridSearchCV, StratifiedShuffleSplit\n",
    "from sklearn import metrics\n",
    "%matplotlib inline\n",
    "from matplotlib.pylab import rcParams\n",
    "rcParams['figure.figsize'] = 12, 4"
   ]
  },
  {
   "cell_type": "markdown",
   "metadata": {},
   "source": [
    "### Load Data"
   ]
  },
  {
   "cell_type": "code",
   "execution_count": 2,
   "metadata": {
    "collapsed": true
   },
   "outputs": [],
   "source": [
    "train = pd.read_csv('train_modified.csv')\n",
    "test = pd.read_csv('test_modified.csv')"
   ]
  },
  {
   "cell_type": "code",
   "execution_count": 3,
   "metadata": {},
   "outputs": [
    {
     "data": {
      "text/plain": [
       "((103, 20), (43, 20))"
      ]
     },
     "execution_count": 3,
     "metadata": {},
     "output_type": "execute_result"
    }
   ],
   "source": [
    "train.shape, test.shape"
   ]
  },
  {
   "cell_type": "code",
   "execution_count": 4,
   "metadata": {
    "collapsed": true
   },
   "outputs": [],
   "source": [
    "def plot_pie(y):\n",
    "    target_stats = Counter(y)\n",
    "    labels = list(target_stats.keys())\n",
    "    sizes = list(target_stats.values())\n",
    "    explode = tuple([0.1] * len(target_stats))\n",
    "\n",
    "    fig, ax = plt.subplots()\n",
    "    ax.pie(sizes, explode=explode, labels=labels, shadow=True,\n",
    "           autopct='%1.1f%%')\n",
    "    ax.axis('equal')"
   ]
  },
  {
   "cell_type": "code",
   "execution_count": 5,
   "metadata": {},
   "outputs": [
    {
     "name": "stdout",
     "output_type": "stream",
     "text": [
      "Positive vs negtive ratio on train is 0.117\n"
     ]
    },
    {
     "data": {
      "text/html": [
       "<div>\n",
       "<style>\n",
       "    .dataframe thead tr:only-child th {\n",
       "        text-align: right;\n",
       "    }\n",
       "\n",
       "    .dataframe thead th {\n",
       "        text-align: left;\n",
       "    }\n",
       "\n",
       "    .dataframe tbody tr th {\n",
       "        vertical-align: top;\n",
       "    }\n",
       "</style>\n",
       "<table border=\"1\" class=\"dataframe\">\n",
       "  <thead>\n",
       "    <tr style=\"text-align: right;\">\n",
       "      <th></th>\n",
       "      <th>bonus</th>\n",
       "      <th>deferral_payments</th>\n",
       "      <th>deferred_income</th>\n",
       "      <th>director_fees</th>\n",
       "      <th>exercised_stock_options</th>\n",
       "      <th>expenses</th>\n",
       "      <th>from_messages</th>\n",
       "      <th>from_poi_to_this_person</th>\n",
       "      <th>from_this_person_to_poi</th>\n",
       "      <th>loan_advances</th>\n",
       "      <th>long_term_incentive</th>\n",
       "      <th>other</th>\n",
       "      <th>poi</th>\n",
       "      <th>restricted_stock</th>\n",
       "      <th>restricted_stock_deferred</th>\n",
       "      <th>salary</th>\n",
       "      <th>shared_receipt_with_poi</th>\n",
       "      <th>to_messages</th>\n",
       "      <th>total_payments</th>\n",
       "      <th>total_stock_value</th>\n",
       "    </tr>\n",
       "  </thead>\n",
       "  <tbody>\n",
       "    <tr>\n",
       "      <th>0</th>\n",
       "      <td>0.0</td>\n",
       "      <td>178980.0</td>\n",
       "      <td>0.0</td>\n",
       "      <td>0.0</td>\n",
       "      <td>257817.0</td>\n",
       "      <td>3486.0</td>\n",
       "      <td>0.0</td>\n",
       "      <td>0.0</td>\n",
       "      <td>0.0</td>\n",
       "      <td>0.0</td>\n",
       "      <td>0.0</td>\n",
       "      <td>0.0</td>\n",
       "      <td>0</td>\n",
       "      <td>0.0</td>\n",
       "      <td>0.0</td>\n",
       "      <td>0.0</td>\n",
       "      <td>0.0</td>\n",
       "      <td>0.0</td>\n",
       "      <td>182466.0</td>\n",
       "      <td>257817.0</td>\n",
       "    </tr>\n",
       "    <tr>\n",
       "      <th>1</th>\n",
       "      <td>0.0</td>\n",
       "      <td>0.0</td>\n",
       "      <td>-5104.0</td>\n",
       "      <td>0.0</td>\n",
       "      <td>4046157.0</td>\n",
       "      <td>56301.0</td>\n",
       "      <td>29.0</td>\n",
       "      <td>39.0</td>\n",
       "      <td>0.0</td>\n",
       "      <td>0.0</td>\n",
       "      <td>0.0</td>\n",
       "      <td>864523.0</td>\n",
       "      <td>0</td>\n",
       "      <td>1757552.0</td>\n",
       "      <td>-560222.0</td>\n",
       "      <td>477.0</td>\n",
       "      <td>465.0</td>\n",
       "      <td>566.0</td>\n",
       "      <td>916197.0</td>\n",
       "      <td>5243487.0</td>\n",
       "    </tr>\n",
       "    <tr>\n",
       "      <th>2</th>\n",
       "      <td>1200000.0</td>\n",
       "      <td>1295738.0</td>\n",
       "      <td>-1386055.0</td>\n",
       "      <td>0.0</td>\n",
       "      <td>6680544.0</td>\n",
       "      <td>11200.0</td>\n",
       "      <td>0.0</td>\n",
       "      <td>0.0</td>\n",
       "      <td>0.0</td>\n",
       "      <td>0.0</td>\n",
       "      <td>1586055.0</td>\n",
       "      <td>2660303.0</td>\n",
       "      <td>0</td>\n",
       "      <td>3942714.0</td>\n",
       "      <td>0.0</td>\n",
       "      <td>267102.0</td>\n",
       "      <td>0.0</td>\n",
       "      <td>0.0</td>\n",
       "      <td>5634343.0</td>\n",
       "      <td>10623258.0</td>\n",
       "    </tr>\n",
       "    <tr>\n",
       "      <th>3</th>\n",
       "      <td>700000.0</td>\n",
       "      <td>0.0</td>\n",
       "      <td>0.0</td>\n",
       "      <td>0.0</td>\n",
       "      <td>0.0</td>\n",
       "      <td>37172.0</td>\n",
       "      <td>4343.0</td>\n",
       "      <td>144.0</td>\n",
       "      <td>386.0</td>\n",
       "      <td>0.0</td>\n",
       "      <td>0.0</td>\n",
       "      <td>566.0</td>\n",
       "      <td>0</td>\n",
       "      <td>126027.0</td>\n",
       "      <td>0.0</td>\n",
       "      <td>231330.0</td>\n",
       "      <td>2639.0</td>\n",
       "      <td>7315.0</td>\n",
       "      <td>969068.0</td>\n",
       "      <td>126027.0</td>\n",
       "    </tr>\n",
       "    <tr>\n",
       "      <th>4</th>\n",
       "      <td>5249999.0</td>\n",
       "      <td>2144013.0</td>\n",
       "      <td>-2334434.0</td>\n",
       "      <td>0.0</td>\n",
       "      <td>953136.0</td>\n",
       "      <td>17355.0</td>\n",
       "      <td>484.0</td>\n",
       "      <td>228.0</td>\n",
       "      <td>108.0</td>\n",
       "      <td>0.0</td>\n",
       "      <td>0.0</td>\n",
       "      <td>210698.0</td>\n",
       "      <td>1</td>\n",
       "      <td>157569.0</td>\n",
       "      <td>0.0</td>\n",
       "      <td>213999.0</td>\n",
       "      <td>5521.0</td>\n",
       "      <td>7991.0</td>\n",
       "      <td>5501630.0</td>\n",
       "      <td>1110705.0</td>\n",
       "    </tr>\n",
       "  </tbody>\n",
       "</table>\n",
       "</div>"
      ],
      "text/plain": [
       "       bonus  deferral_payments  deferred_income  director_fees  \\\n",
       "0        0.0           178980.0              0.0            0.0   \n",
       "1        0.0                0.0          -5104.0            0.0   \n",
       "2  1200000.0          1295738.0       -1386055.0            0.0   \n",
       "3   700000.0                0.0              0.0            0.0   \n",
       "4  5249999.0          2144013.0       -2334434.0            0.0   \n",
       "\n",
       "   exercised_stock_options  expenses  from_messages  from_poi_to_this_person  \\\n",
       "0                 257817.0    3486.0            0.0                      0.0   \n",
       "1                4046157.0   56301.0           29.0                     39.0   \n",
       "2                6680544.0   11200.0            0.0                      0.0   \n",
       "3                      0.0   37172.0         4343.0                    144.0   \n",
       "4                 953136.0   17355.0          484.0                    228.0   \n",
       "\n",
       "   from_this_person_to_poi  loan_advances  long_term_incentive      other  \\\n",
       "0                      0.0            0.0                  0.0        0.0   \n",
       "1                      0.0            0.0                  0.0   864523.0   \n",
       "2                      0.0            0.0            1586055.0  2660303.0   \n",
       "3                    386.0            0.0                  0.0      566.0   \n",
       "4                    108.0            0.0                  0.0   210698.0   \n",
       "\n",
       "   poi  restricted_stock  restricted_stock_deferred    salary  \\\n",
       "0    0               0.0                        0.0       0.0   \n",
       "1    0         1757552.0                  -560222.0     477.0   \n",
       "2    0         3942714.0                        0.0  267102.0   \n",
       "3    0          126027.0                        0.0  231330.0   \n",
       "4    1          157569.0                        0.0  213999.0   \n",
       "\n",
       "   shared_receipt_with_poi  to_messages  total_payments  total_stock_value  \n",
       "0                      0.0          0.0        182466.0           257817.0  \n",
       "1                    465.0        566.0        916197.0          5243487.0  \n",
       "2                      0.0          0.0       5634343.0         10623258.0  \n",
       "3                   2639.0       7315.0        969068.0           126027.0  \n",
       "4                   5521.0       7991.0       5501630.0          1110705.0  "
      ]
     },
     "execution_count": 5,
     "metadata": {},
     "output_type": "execute_result"
    }
   ],
   "source": [
    "target = 'poi'\n",
    "pos_ratio = sum(train[target])/len(train[target])\n",
    "print('Positive vs negtive ratio on train is %.3f'%pos_ratio)\n",
    "train.head()"
   ]
  },
  {
   "cell_type": "code",
   "execution_count": 6,
   "metadata": {},
   "outputs": [
    {
     "name": "stdout",
     "output_type": "stream",
     "text": [
      "Positive example ratio on training set is 0.117\n"
     ]
    },
    {
     "data": {
      "image/png": "[encoded data removed]",
      "text/plain": [
       "<matplotlib.figure.Figure at 0x7fe85eced748>"
      ]
     },
     "metadata": {},
     "output_type": "display_data"
    }
   ],
   "source": [
    "pos_ratio = sum(train[target]) / train.shape[0]\n",
    "print('Positive example ratio on training set is %.3f'%pos_ratio)\n",
    "plot_pie(train[target])"
   ]
  },
  {
   "cell_type": "markdown",
   "metadata": {},
   "source": [
    "### Define funtion for modeling and CV"
   ]
  },
  {
   "cell_type": "code",
   "execution_count": 7,
   "metadata": {
    "collapsed": true
   },
   "outputs": [],
   "source": [
    "def modelfit(alg, dtrain, dtest, predictors,useTrainCV=True, cv_folds=5, early_stopping_rounds=50):\n",
    "    if useTrainCV:\n",
    "        xgb_param = alg.get_xgb_params()\n",
    "        xgtrain = xgb.DMatrix(dtrain[predictors].values, label=dtrain[target].values)\n",
    "        xgtest = xgb.DMatrix(dtest[predictors].values)\n",
    "        cvresult = xgb.cv(xgb_param, xgtrain, num_boost_round=alg.get_params()['n_estimators'], nfold=cv_folds,\n",
    "            metrics='auc', early_stopping_rounds=early_stopping_rounds)\n",
    "        print(cvresult.shape[0])\n",
    "        alg.set_params(n_estimators=cvresult.shape[0])\n",
    "    \n",
    "    #Fit the algorithm on the data\n",
    "    alg.fit(dtrain[predictors], dtrain['poi'],eval_metric='auc')\n",
    "        \n",
    "    #Predict training and testing set\n",
    "    dtrain_predictions, dtest_predictions =[alg.predict(X[predictors]) for X in [dtrain, dtest]]\n",
    "    # binary classification, positive=1, negtive=0, respectively refer to 1 column and 0 column \n",
    "    dtrain_pred_prob, dtest_pred_prob = [alg.predict_proba(X[predictors])[:, 1] for X in [dtrain, dtest]]\n",
    "    #Print model report:\n",
    "    print(\"\\nModel Report on train dataset!\")\n",
    "    print(\"Accuracy : %.4g\" % metrics.accuracy_score(dtrain['poi'].values, dtrain_predictions))\n",
    "    print(\"AUC Score : %f\" % metrics.roc_auc_score(dtrain['poi'], dtrain_pred_prob))\n",
    "    print(\"\\nModel Report on test dataset!\")\n",
    "    print(\"Accuracy : %.4g\" % metrics.accuracy_score(dtest['poi'].values, dtest_predictions))\n",
    "    print(\"AUC Score : %f\" % metrics.roc_auc_score(dtest['poi'], dtest_pred_prob))\n",
    "    # Plot feature importance\n",
    "    xgb.plot_importance(alg)            "
   ]
  },
  {
   "cell_type": "markdown",
   "metadata": {},
   "source": [
    "### Find the number of estimators at a high learning rate"
   ]
  },
  {
   "cell_type": "code",
   "execution_count": 8,
   "metadata": {},
   "outputs": [
    {
     "name": "stdout",
     "output_type": "stream",
     "text": [
      "19\n",
      "\n",
      "Model Report on train dataset!\n",
      "Accuracy : 0.9709\n",
      "AUC Score : 0.993590\n",
      "\n",
      "Model Report on test dataset!\n",
      "Accuracy : 0.8605\n",
      "AUC Score : 0.806306\n"
     ]
    },
    {
     "data": {
      "image/png": "[encoded data removed]",
      "text/plain": [
       "<matplotlib.figure.Figure at 0x7fe8578399e8>"
      ]
     },
     "metadata": {},
     "output_type": "display_data"
    }
   ],
   "source": [
    "predictors = [x for x in train.columns if x not in [target]]\n",
    "xgb1 = XGBClassifier(\n",
    "        learning_rate =0.1,\n",
    "        n_estimators=1000,\n",
    "        max_depth=5,\n",
    "        min_child_weight=1,\n",
    "        gamma=0,\n",
    "        subsample=0.8,\n",
    "        colsample_bytree=0.8,\n",
    "        objective= 'binary:logistic',\n",
    "        nthread=4,\n",
    "        scale_pos_weight=1,\n",
    "        seed=27)\n",
    "modelfit(xgb1, train, test, predictors)"
   ]
  },
  {
   "cell_type": "code",
   "execution_count": 9,
   "metadata": {
    "collapsed": true
   },
   "outputs": [],
   "source": [
    "### define cv function for convience\n",
    "def make_CV(model=XGBClassifier(), features=None, labels=None, param_grid=None, scoring='roc_auc', cv=5, verbose=1):\n",
    "    grid_search = GridSearchCV(estimator=model, param_grid=param_grid,cv=cv, verbose=verbose, scoring=scoring)\n",
    "    if features is None or labels is None:\n",
    "        features, labels = train[predictors], train[target]\n",
    "    grid_search.fit(features, labels)\n",
    "    print(grid_search.best_score_)\n",
    "    print(grid_search.best_params_)"
   ]
  },
  {
   "cell_type": "code",
   "execution_count": 10,
   "metadata": {},
   "outputs": [
    {
     "name": "stdout",
     "output_type": "stream",
     "text": [
      "Fitting 5 folds for each of 25 candidates, totalling 125 fits\n",
      "0.820956111963\n",
      "{'colsample_bytree': 0.8, 'gamma': 0, 'learning_rate': 0.1, 'max_depth': 1, 'min_child_weight': 5, 'n_estimators': 1000, 'objective': 'binary:logistic', 'scale_pos_weight': 1, 'subsample': 0.8}\n"
     ]
    },
    {
     "name": "stderr",
     "output_type": "stream",
     "text": [
      "[Parallel(n_jobs=1)]: Done 125 out of 125 | elapsed:   10.9s finished\n"
     ]
    }
   ],
   "source": [
    "### Grid search on subsample and max_features\n",
    "tuned_params_1 ={\n",
    "        'learning_rate':[0.1],\n",
    "        'n_estimators':[1000],\n",
    "        'max_depth':range(1,10,2),\n",
    "        'min_child_weight':range(1,10,2),\n",
    "        'gamma':[0],\n",
    "        'subsample':[0.8],\n",
    "        'colsample_bytree':[0.8],\n",
    "        'objective':['binary:logistic'],\n",
    "        'scale_pos_weight':[1]}\n",
    "rng = np.random.RandomState(12345)\n",
    "make_CV(param_grid=tuned_params_1)"
   ]
  },
  {
   "cell_type": "code",
   "execution_count": 11,
   "metadata": {},
   "outputs": [
    {
     "name": "stdout",
     "output_type": "stream",
     "text": [
      "Fitting 5 folds for each of 9 candidates, totalling 45 fits\n",
      "0.820956111963\n",
      "{'colsample_bytree': 0.8, 'gamma': 0, 'learning_rate': 0.1, 'max_depth': 1, 'min_child_weight': 5, 'n_estimators': 1000, 'objective': 'binary:logistic', 'scale_pos_weight': 1, 'subsample': 0.8}\n"
     ]
    },
    {
     "name": "stderr",
     "output_type": "stream",
     "text": [
      "[Parallel(n_jobs=1)]: Done  45 out of  45 | elapsed:    3.9s finished\n"
     ]
    }
   ],
   "source": [
    "tuned_params_2 ={\n",
    "        'learning_rate':[0.1],\n",
    "        'n_estimators':[1000],\n",
    "        'max_depth':[1, 2, 3],\n",
    "        'min_child_weight':[4, 5, 6],\n",
    "        'gamma':[0],\n",
    "        'subsample':[0.8],\n",
    "        'colsample_bytree':[0.8],\n",
    "        'objective':['binary:logistic'],\n",
    "        'scale_pos_weight':[1]}\n",
    "make_CV(param_grid=tuned_params_2)\n"
   ]
  },
  {
   "cell_type": "markdown",
   "metadata": {},
   "source": [
    "### Tune gama"
   ]
  },
  {
   "cell_type": "code",
   "execution_count": 12,
   "metadata": {},
   "outputs": [
    {
     "name": "stdout",
     "output_type": "stream",
     "text": [
      "Fitting 5 folds for each of 5 candidates, totalling 25 fits\n",
      "0.822843922103\n",
      "{'colsample_bytree': 0.8, 'gamma': 1.0, 'learning_rate': 0.1, 'max_depth': 1, 'min_child_weight': 5, 'n_estimators': 1000, 'objective': 'binary:logistic', 'scale_pos_weight': 1, 'subsample': 0.8}\n"
     ]
    },
    {
     "name": "stderr",
     "output_type": "stream",
     "text": [
      "[Parallel(n_jobs=1)]: Done  25 out of  25 | elapsed:    2.1s finished\n"
     ]
    }
   ],
   "source": [
    "tuned_params_3 ={\n",
    "        'learning_rate':[0.1],\n",
    "        'n_estimators':[1000],\n",
    "        'max_depth':[1],\n",
    "        'min_child_weight':[5],\n",
    "        'gamma':np.linspace(0,1,5),\n",
    "        'subsample':[0.8],\n",
    "        'colsample_bytree':[0.8],\n",
    "        'objective':['binary:logistic'],\n",
    "        'scale_pos_weight':[1]}\n",
    "make_CV(param_grid=tuned_params_3)"
   ]
  },
  {
   "cell_type": "code",
   "execution_count": 13,
   "metadata": {},
   "outputs": [
    {
     "name": "stdout",
     "output_type": "stream",
     "text": [
      "16\n",
      "\n",
      "Model Report on train dataset!\n",
      "Accuracy : 0.8835\n",
      "AUC Score : 0.913462\n",
      "\n",
      "Model Report on test dataset!\n",
      "Accuracy : 0.8605\n",
      "AUC Score : 0.747748\n"
     ]
    },
    {
     "data": {
      "image/png": "[encoded data removed]",
      "text/plain": [
       "<matplotlib.figure.Figure at 0x7fe8578395c0>"
      ]
     },
     "metadata": {},
     "output_type": "display_data"
    }
   ],
   "source": [
    "xgb2 = XGBClassifier(n_estimators=1000, learning_rate=0.1, max_depth=1, min_child_weight=5, gamma=1, subsample=0.8, \n",
    "                     colsample_bylevel=0.8, objective='binary:logistic', scale_pos_weight=1)\n",
    "predictors = [x for x in train.columns if x not in [target]]\n",
    "modelfit(xgb2, train, test, predictors)\n"
   ]
  },
  {
   "cell_type": "markdown",
   "metadata": {},
   "source": [
    "### Tune subsample and colsample_bytree"
   ]
  },
  {
   "cell_type": "code",
   "execution_count": 14,
   "metadata": {},
   "outputs": [
    {
     "name": "stdout",
     "output_type": "stream",
     "text": [
      "Fitting 5 folds for each of 25 candidates, totalling 125 fits\n",
      "0.840331005507\n",
      "{'colsample_bytree': 0.75, 'gamma': 1, 'learning_rate': 0.1, 'max_depth': 1, 'min_child_weight': 5, 'n_estimators': 1000, 'objective': 'binary:logistic', 'scale_pos_weight': 1, 'subsample': 0.625}\n"
     ]
    },
    {
     "name": "stderr",
     "output_type": "stream",
     "text": [
      "[Parallel(n_jobs=1)]: Done 125 out of 125 | elapsed:   10.0s finished\n"
     ]
    }
   ],
   "source": [
    "tuned_params_4 ={\n",
    "        'learning_rate':[0.1],\n",
    "        'n_estimators':[1000],\n",
    "        'max_depth':[1],\n",
    "        'min_child_weight':[5],\n",
    "        'gamma':[1],\n",
    "        'subsample':np.linspace(0.5,1,5),\n",
    "        'colsample_bytree':np.linspace(0.5,1,5),\n",
    "        'objective':['binary:logistic'],\n",
    "        'scale_pos_weight':[1]}\n",
    "make_CV(param_grid=tuned_params_4)"
   ]
  },
  {
   "cell_type": "code",
   "execution_count": 15,
   "metadata": {},
   "outputs": [
    {
     "name": "stdout",
     "output_type": "stream",
     "text": [
      "Fitting 5 folds for each of 25 candidates, totalling 125 fits\n",
      "0.852254016919\n",
      "{'colsample_bytree': 0.69999999999999996, 'gamma': 1, 'learning_rate': 0.1, 'max_depth': 1, 'min_child_weight': 5, 'n_estimators': 1000, 'objective': 'binary:logistic', 'scale_pos_weight': 1, 'subsample': 0.64999999999999991}\n"
     ]
    },
    {
     "name": "stderr",
     "output_type": "stream",
     "text": [
      "[Parallel(n_jobs=1)]: Done 125 out of 125 | elapsed:   10.2s finished\n"
     ]
    }
   ],
   "source": [
    "tuned_params_5 ={\n",
    "        'learning_rate':[0.1],\n",
    "        'n_estimators':[1000],\n",
    "        'max_depth':[1],\n",
    "        'min_child_weight':[5],\n",
    "        'gamma':[1],\n",
    "        'subsample':np.linspace(0.5,0.7,5),\n",
    "        'colsample_bytree':np.linspace(0.6,0.8,5),\n",
    "        'objective':['binary:logistic'],\n",
    "        'scale_pos_weight':[1]}\n",
    "make_CV(param_grid=tuned_params_5)"
   ]
  },
  {
   "cell_type": "markdown",
   "metadata": {},
   "source": [
    "### Try regularization"
   ]
  },
  {
   "cell_type": "code",
   "execution_count": 16,
   "metadata": {},
   "outputs": [
    {
     "name": "stdout",
     "output_type": "stream",
     "text": [
      "Fitting 5 folds for each of 5 candidates, totalling 25 fits\n",
      "0.852254016919\n",
      "{'colsample_bytree': 0.7, 'gamma': 1, 'learning_rate': 0.1, 'max_depth': 1, 'min_child_weight': 5, 'n_estimators': 1000, 'objective': 'binary:logistic', 'reg_alpha': 1e-05, 'scale_pos_weight': 1, 'subsample': 0.65}\n"
     ]
    },
    {
     "name": "stderr",
     "output_type": "stream",
     "text": [
      "[Parallel(n_jobs=1)]: Done  25 out of  25 | elapsed:    2.0s finished\n"
     ]
    }
   ],
   "source": [
    "tuned_params_6 ={\n",
    "        'learning_rate':[0.1],\n",
    "        'n_estimators':[1000],\n",
    "        'max_depth':[1],\n",
    "        'min_child_weight':[5],\n",
    "        'gamma':[1],\n",
    "        'subsample':[0.65],\n",
    "        'colsample_bytree':[0.7],\n",
    "        'objective':['binary:logistic'],\n",
    "        'scale_pos_weight':[1],\n",
    "        'reg_alpha':[1e-5, 1e-2, 0.1, 1, 100]}\n",
    "make_CV(param_grid=tuned_params_6)"
   ]
  },
  {
   "cell_type": "code",
   "execution_count": 17,
   "metadata": {},
   "outputs": [
    {
     "name": "stdout",
     "output_type": "stream",
     "text": [
      "Fitting 5 folds for each of 5 candidates, totalling 25 fits\n",
      "0.852254016919\n",
      "{'colsample_bytree': 0.7, 'gamma': 1, 'learning_rate': 0.1, 'max_depth': 1, 'min_child_weight': 5, 'n_estimators': 1000, 'objective': 'binary:logistic', 'reg_alpha': 1e-08, 'scale_pos_weight': 1, 'subsample': 0.65}\n"
     ]
    },
    {
     "name": "stderr",
     "output_type": "stream",
     "text": [
      "[Parallel(n_jobs=1)]: Done  25 out of  25 | elapsed:    2.0s finished\n"
     ]
    }
   ],
   "source": [
    "tuned_params_7 ={\n",
    "        'learning_rate':[0.1],\n",
    "        'n_estimators':[1000],\n",
    "        'max_depth':[1],\n",
    "        'min_child_weight':[5],\n",
    "        'gamma':[1],\n",
    "        'subsample':[0.65],\n",
    "        'colsample_bytree':[0.7],\n",
    "        'objective':['binary:logistic'],\n",
    "        'scale_pos_weight':[1],\n",
    "        'reg_alpha':[10**x for x in range(-8,-3)]}\n",
    "make_CV(param_grid=tuned_params_7)"
   ]
  },
  {
   "cell_type": "code",
   "execution_count": 18,
   "metadata": {},
   "outputs": [
    {
     "name": "stdout",
     "output_type": "stream",
     "text": [
      "10\n",
      "\n",
      "Model Report on train dataset!\n",
      "Accuracy : 0.8835\n",
      "AUC Score : 0.894689\n",
      "\n",
      "Model Report on test dataset!\n",
      "Accuracy : 0.8605\n",
      "AUC Score : 0.790541\n"
     ]
    },
    {
     "data": {
      "image/png": "[encoded data removed]",
      "text/plain": [
       "<matplotlib.figure.Figure at 0x7fe855ea3dd8>"
      ]
     },
     "metadata": {},
     "output_type": "display_data"
    }
   ],
   "source": [
    "xgb3 = XGBClassifier(n_estimators=5000, learning_rate=0.1, max_depth=1, min_child_weight=5, gamma=1, subsample=0.65, \n",
    "                     colsample_bylevel=0.7, objective='binary:logistic', scale_pos_weight=1)\n",
    "predictors = [x for x in train.columns if x not in [target]]\n",
    "modelfit(xgb3, train, test, predictors)"
   ]
  },
  {
   "cell_type": "code",
   "execution_count": 19,
   "metadata": {},
   "outputs": [
    {
     "name": "stdout",
     "output_type": "stream",
     "text": [
      "Fitting 5 folds for each of 10 candidates, totalling 50 fits\n",
      "0.83317719866\n",
      "{'colsample_bytree': 0.7, 'gamma': 1, 'learning_rate': 0.33666666666666667, 'max_depth': 1, 'min_child_weight': 5, 'n_estimators': 1000, 'objective': 'binary:logistic', 'reg_alpha': 0, 'scale_pos_weight': 1, 'subsample': 0.65}\n"
     ]
    },
    {
     "name": "stderr",
     "output_type": "stream",
     "text": [
      "[Parallel(n_jobs=1)]: Done  50 out of  50 | elapsed:    4.0s finished\n"
     ]
    }
   ],
   "source": [
    "tuned_params_8 ={\n",
    "        'learning_rate':np.linspace(0.01,0.5,10),\n",
    "        'n_estimators':[1000],\n",
    "        'max_depth':[1],\n",
    "        'min_child_weight':[5],\n",
    "        'gamma':[1],\n",
    "        'subsample':[0.65],\n",
    "        'colsample_bytree':[0.7],\n",
    "        'objective':['binary:logistic'],\n",
    "        'scale_pos_weight':[1],\n",
    "        'reg_alpha':[0]}\n",
    "make_CV(param_grid=tuned_params_8)"
   ]
  },
  {
   "cell_type": "code",
   "execution_count": 20,
   "metadata": {},
   "outputs": [
    {
     "name": "stdout",
     "output_type": "stream",
     "text": [
      "Fitting 5 folds for each of 20 candidates, totalling 100 fits\n",
      "0.851927553512\n",
      "{'colsample_bytree': 0.7, 'gamma': 1, 'learning_rate': 0.30526315789473685, 'max_depth': 1, 'min_child_weight': 5, 'n_estimators': 1000, 'objective': 'binary:logistic', 'reg_alpha': 0, 'scale_pos_weight': 1, 'subsample': 0.65}\n"
     ]
    },
    {
     "name": "stderr",
     "output_type": "stream",
     "text": [
      "[Parallel(n_jobs=1)]: Done 100 out of 100 | elapsed:    8.1s finished\n"
     ]
    }
   ],
   "source": [
    "tuned_params_9 = {\n",
    "        'learning_rate':np.linspace(0.25,0.4,20),\n",
    "        'n_estimators':[1000],\n",
    "        'max_depth':[1],\n",
    "        'min_child_weight':[5],\n",
    "        'gamma':[1],\n",
    "        'subsample':[0.65],\n",
    "        'colsample_bytree':[0.7],\n",
    "        'objective':['binary:logistic'],\n",
    "        'scale_pos_weight':[1],\n",
    "        'reg_alpha':[0]}\n",
    "make_CV(param_grid=tuned_params_9)"
   ]
  },
  {
   "cell_type": "code",
   "execution_count": 21,
   "metadata": {},
   "outputs": [
    {
     "name": "stdout",
     "output_type": "stream",
     "text": [
      "4\n",
      "\n",
      "Model Report on train dataset!\n",
      "Accuracy : 0.8835\n",
      "AUC Score : 0.897436\n",
      "\n",
      "Model Report on test dataset!\n",
      "Accuracy : 0.8605\n",
      "AUC Score : 0.756757\n"
     ]
    },
    {
     "data": {
      "image/png": "[encoded data removed]",
      "text/plain": [
       "<matplotlib.figure.Figure at 0x7fe855f68f60>"
      ]
     },
     "metadata": {},
     "output_type": "display_data"
    }
   ],
   "source": [
    "xgb4 = XGBClassifier(n_estimators=1000, learning_rate=0.305, max_depth=1, min_child_weight=5, gamma=1, subsample=0.65, \n",
    "                     colsample_bylevel=0.7, objective='binary:logistic', scale_pos_weight=1)\n",
    "predictors = [x for x in train.columns if x not in [target]]\n",
    "modelfit(xgb4, train, test, predictors)"
   ]
  }
 ],
 "metadata": {
  "kernelspec": {
   "display_name": "Python 3",
   "language": "python",
   "name": "python3"
  },
  "language_info": {
   "codemirror_mode": {
    "name": "ipython",
    "version": 3
   },
   "file_extension": ".py",
   "mimetype": "text/x-python",
   "name": "python",
   "nbconvert_exporter": "python",
   "pygments_lexer": "ipython3",
   "version": "3.6.3"
  }
 },
 "nbformat": 4,
 "nbformat_minor": 2
}
